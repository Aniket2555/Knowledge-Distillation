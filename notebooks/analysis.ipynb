{
 "cells": [
  {
   "cell_type": "code",
   "execution_count": null,
   "id": "2b8bca55",
   "metadata": {},
   "outputs": [],
   "source": [
    "import pandas as pd\n",
    "import matplotlib.pyplot as plt\n",
    "\n",
    "teacher_df = pd.read_csv(\"../results/metrics.csv\")\n"
   ]
  },
  {
   "cell_type": "code",
   "execution_count": null,
   "id": "14ff0182",
   "metadata": {},
   "outputs": [],
   "source": [
    "plt.figure(figsize=(10,5))\n",
    "plt.plot(teacher_df[\"epoch\"], teacher_df[\"accuracy\"], label=\"Teacher Accuracy\")\n",
    "plt.plot(teacher_df[\"epoch\"], teacher_df[\"loss\"], label=\"Teacher Loss\")\n",
    "plt.xlabel(\"Epoch\")\n",
    "plt.ylabel(\"Value\")\n",
    "plt.title(\"Teacher Model Performance\")\n",
    "plt.legend()\n",
    "plt.grid(True)\n",
    "plt.show()\n"
   ]
  },
  {
   "cell_type": "code",
   "execution_count": null,
   "id": "e26f85e0",
   "metadata": {},
   "outputs": [],
   "source": [
    "student_df = pd.read_csv(\"../results/metrics_student.csv\")\n",
    "\n",
    "plt.figure(figsize=(10,5))\n",
    "plt.plot(teacher_df[\"epoch\"], teacher_df[\"accuracy\"], label=\"Teacher\")\n",
    "plt.plot(student_df[\"epoch\"], student_df[\"accuracy\"], label=\"Student\")\n",
    "plt.xlabel(\"Epoch\")\n",
    "plt.ylabel(\"Accuracy\")\n",
    "plt.title(\"Teacher vs Student Accuracy\")\n",
    "plt.legend()\n",
    "plt.grid(True)\n",
    "plt.show()\n"
   ]
  }
 ],
 "metadata": {
  "language_info": {
   "name": "python"
  }
 },
 "nbformat": 4,
 "nbformat_minor": 5
}
